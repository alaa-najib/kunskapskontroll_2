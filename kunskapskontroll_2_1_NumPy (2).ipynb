{
 "cells": [
  {
   "cell_type": "markdown",
   "id": "dacf74e6",
   "metadata": {},
   "source": [
    "# NumPy"
   ]
  },
  {
   "cell_type": "markdown",
   "id": "01b2bf34",
   "metadata": {},
   "source": [
    "Read the links: https://numpy.org/doc/stable/user/quickstart.html  and https://numpy.org/doc/stable/user/basics.broadcasting.html  before solving the exercises. "
   ]
  },
  {
   "cell_type": "code",
   "execution_count": 13,
   "id": "1f79e4a6",
   "metadata": {},
   "outputs": [],
   "source": [
    "import numpy as np"
   ]
  },
  {
   "cell_type": "markdown",
   "id": "7dae6889",
   "metadata": {},
   "source": [
    "### Print out the dimension (number of axes), shape, size and the datatype of the matrix A."
   ]
  },
  {
   "cell_type": "code",
   "execution_count": 3,
   "id": "7b3678cd",
   "metadata": {},
   "outputs": [],
   "source": [
    "A = np.arange(1, 16).reshape(3,5)"
   ]
  },
  {
   "cell_type": "code",
   "execution_count": 5,
   "id": "31d39235",
   "metadata": {},
   "outputs": [
    {
     "name": "stdout",
     "output_type": "stream",
     "text": [
      "Number of axes (dimension): 2\n",
      "Shape (rows, columns): (3, 5)\n",
      "Total number of elements: 15\n",
      "Data type of elements: int64\n"
     ]
    }
   ],
   "source": [
    "# Dimension (number of axes)\n",
    "print(\"Number of axes (dimension):\", A.ndim)\n",
    "\n",
    "# Shape\n",
    "print(\"Shape (rows, columns):\", A.shape)\n",
    "\n",
    "# Size (total number of elements)\n",
    "print(\"Total number of elements:\", A.size)\n",
    "\n",
    "# Datatype\n",
    "print(\"Data type of elements:\", A.dtype)"
   ]
  },
  {
   "cell_type": "markdown",
   "id": "e56d2a96",
   "metadata": {},
   "source": [
    "### Do the following computations on the matrices B and C: \n",
    "* Elementwise subtraction. \n",
    "* Elementwise multiplication. \n",
    "* Matrix multiplication (by default you should use the @ operator)."
   ]
  },
  {
   "cell_type": "code",
   "execution_count": 4,
   "id": "a7053fbb",
   "metadata": {},
   "outputs": [
    {
     "name": "stdout",
     "output_type": "stream",
     "text": [
      "[[1 2 3]\n",
      " [4 5 6]\n",
      " [7 8 9]]\n",
      "\n",
      "[[2. 2. 2.]\n",
      " [2. 2. 2.]\n",
      " [2. 2. 2.]]\n"
     ]
    }
   ],
   "source": [
    "B = np.arange(1, 10).reshape(3, 3)\n",
    "C = np.ones((3, 3))*2\n",
    "\n",
    "print(B)\n",
    "print()\n",
    "print(C)"
   ]
  },
  {
   "cell_type": "code",
   "execution_count": 17,
   "id": "3cd794ae",
   "metadata": {},
   "outputs": [
    {
     "name": "stdout",
     "output_type": "stream",
     "text": [
      "[[-1.  0.  1.]\n",
      " [ 2.  3.  4.]\n",
      " [ 5.  6.  7.]]\n"
     ]
    }
   ],
   "source": [
    "subtrection = B - C\n",
    "print (subtrection)"
   ]
  },
  {
   "cell_type": "code",
   "execution_count": 24,
   "id": "0a8c949d",
   "metadata": {},
   "outputs": [
    {
     "name": "stdout",
     "output_type": "stream",
     "text": [
      "multiplication [[ 2.  4.  6.]\n",
      " [ 8. 10. 12.]\n",
      " [14. 16. 18.]]\n"
     ]
    }
   ],
   "source": [
    "multiplication = B * C\n",
    "print (\"multiplication\", multiplication)"
   ]
  },
  {
   "cell_type": "code",
   "execution_count": 26,
   "id": "eee35676",
   "metadata": {},
   "outputs": [
    {
     "name": "stdout",
     "output_type": "stream",
     "text": [
      "[[12. 12. 12.]\n",
      " [30. 30. 30.]\n",
      " [48. 48. 48.]]\n"
     ]
    }
   ],
   "source": [
    "matrix_multiplication = B @ C\n",
    "print (matrix_multiplication)"
   ]
  },
  {
   "cell_type": "markdown",
   "id": "96030d53",
   "metadata": {},
   "source": [
    "### Do the following calculations on the matrix:\n",
    "* Exponentiate each number elementwise (use the np.exp function).\n",
    "\n",
    "* Calculate the minimum value in the whole matrix. \n",
    "* Calculcate the minimum value in each row. \n",
    "* Calculcate the minimum value in each column. \n",
    "\n",
    "\n",
    "* Find the index value for the minimum value in the whole matrix (hint: use np.argmin).\n",
    "* Find the index value for the minimum value in each row (hint: use np.argmin).\n",
    "\n",
    "\n",
    "* Calculate the sum for all elements.\n",
    "* Calculate the mean for each column. \n",
    "* Calculate the median for each column. "
   ]
  },
  {
   "cell_type": "code",
   "execution_count": null,
   "id": "f8a9166b",
   "metadata": {},
   "outputs": [
    {
     "name": "stdout",
     "output_type": "stream",
     "text": [
      "[[1 2 3]\n",
      " [4 5 6]\n",
      " [7 8 9]]\n"
     ]
    }
   ],
   "source": [
    "\n",
    "B = np.arange(1, 10).reshape(3, 3)\n",
    "print(B)\n"
   ]
  },
  {
   "cell_type": "code",
   "execution_count": 35,
   "id": "f03f24f7",
   "metadata": {},
   "outputs": [
    {
     "name": "stdout",
     "output_type": "stream",
     "text": [
      "\n",
      "Exponentiate each element:\n",
      "[[1 2 3]\n",
      " [4 5 6]\n",
      " [7 8 9]]\n",
      "\n",
      "Mininum value in the whole matrix: 1\n",
      "\n",
      "Minimum value in each row: [1 4 7]\n",
      "\n",
      "Minimum value in each column: [1 2 3]\n",
      "\n",
      "Index of the minimum value in the whole matrix: 0\n",
      "Index of the minimum value in each row: [np.int64(0), np.int64(0), np.int64(0)]\n",
      "\n",
      "Sum of all elements: 45\n",
      "\n",
      "Mean of each column [4. 5. 6.]\n",
      "\n",
      "Median of each column [4. 5. 6.]\n"
     ]
    }
   ],
   "source": [
    "#1\n",
    "B = np.arange(1, 10).reshape(3, 3)\n",
    "print(\"\\nExponentiate each element:\")\n",
    "print(B)\n",
    "\n",
    "#2\n",
    "min_value = np.min(B) \n",
    "print (\"\\nMininum value in the whole matrix:\", min_value)\n",
    "\n",
    "#3\n",
    "min_value_row = np.min(B, axis=1)\n",
    "print(\"\\nMinimum value in each row:\", min_value_row)\n",
    "\n",
    "#4\n",
    "min_value_col = np.min(B, axis=0)\n",
    "print(\"\\nMinimum value in each column:\", min_value_col)\n",
    "\n",
    "#5 \n",
    "min_index  = np.argmin(B)\n",
    "print(\"\\nIndex of the minimum value in the whole matrix:\", min_index)\n",
    "\n",
    "#6\n",
    "min_index_row = [np.argmin (row) for row in B]\n",
    "print(\"Index of the minimum value in each row:\", min_index_row)\n",
    "\n",
    "#7\n",
    "sum_all = np.sum(B)\n",
    "print(\"\\nSum of all elements:\", sum_all) \n",
    "\n",
    "#8\n",
    "mean_col = np.mean(B, axis=0)\n",
    "print (\"\\nMean of each column\", mean_col)\n",
    "\n",
    "#9 \n",
    "median_col = np.median(B, axis=0)\n",
    "print (\"\\nMedian of each column\", median_col)"
   ]
  },
  {
   "cell_type": "markdown",
   "id": "541eb7ba",
   "metadata": {},
   "source": [
    "### What does it mean when you provide fewer indices than axes when slicing? See example below."
   ]
  },
  {
   "cell_type": "code",
   "execution_count": 41,
   "id": "9c8abf56",
   "metadata": {},
   "outputs": [
    {
     "name": "stdout",
     "output_type": "stream",
     "text": [
      "[[ 1  2  3  4  5]\n",
      " [ 6  7  8  9 10]\n",
      " [11 12 13 14 15]]\n"
     ]
    }
   ],
   "source": [
    "print(A)"
   ]
  },
  {
   "cell_type": "code",
   "execution_count": 42,
   "id": "69415f7b",
   "metadata": {},
   "outputs": [
    {
     "data": {
      "text/plain": [
       "array([ 6,  7,  8,  9, 10])"
      ]
     },
     "execution_count": 42,
     "metadata": {},
     "output_type": "execute_result"
    }
   ],
   "source": [
    "A[1]"
   ]
  },
  {
   "cell_type": "markdown",
   "id": "6c53541b",
   "metadata": {},
   "source": [
    "**Answer:**"
   ]
  },
  {
   "cell_type": "code",
   "execution_count": null,
   "id": "de01e120",
   "metadata": {},
   "outputs": [],
   "source": [
    "# Om du anger färre index än antalet dimensioner i en matris, så väljs allt från de dimensioner som du inte har specificerat. \n",
    "# I exemplet A[1] innebär det att du bara anger ett index för raden, och då får du hela den raden, alltså [6, 7, 8, 9, 10]."
   ]
  },
  {
   "cell_type": "markdown",
   "id": "6652d0c9",
   "metadata": {},
   "source": [
    "### Iterating over multidimensional arrays is done with respect to the first axis, so in the example below we iterate trough the rows. If you would like to iterate through the array *elementwise*, how would you do that?"
   ]
  },
  {
   "cell_type": "code",
   "execution_count": 5,
   "id": "9459864f",
   "metadata": {},
   "outputs": [
    {
     "data": {
      "text/plain": [
       "array([[ 1,  2,  3,  4,  5],\n",
       "       [ 6,  7,  8,  9, 10],\n",
       "       [11, 12, 13, 14, 15]])"
      ]
     },
     "execution_count": 5,
     "metadata": {},
     "output_type": "execute_result"
    }
   ],
   "source": [
    "A"
   ]
  },
  {
   "cell_type": "code",
   "execution_count": 6,
   "id": "a671bb5a",
   "metadata": {},
   "outputs": [
    {
     "name": "stdout",
     "output_type": "stream",
     "text": [
      "[1 2 3 4 5]\n",
      "[ 6  7  8  9 10]\n",
      "[11 12 13 14 15]\n"
     ]
    }
   ],
   "source": [
    "for i in A:\n",
    "    print(i)"
   ]
  },
  {
   "cell_type": "code",
   "execution_count": 10,
   "id": "f9a5c156",
   "metadata": {},
   "outputs": [
    {
     "name": "stdout",
     "output_type": "stream",
     "text": [
      "1\n",
      "2\n",
      "3\n",
      "4\n",
      "5\n",
      "6\n",
      "7\n",
      "8\n",
      "9\n",
      "10\n",
      "11\n",
      "12\n",
      "13\n",
      "14\n",
      "15\n"
     ]
    }
   ],
   "source": [
    "for element in np.nditer(A):\n",
    "    print(element)"
   ]
  },
  {
   "cell_type": "markdown",
   "id": "608a2583",
   "metadata": {},
   "source": [
    "### Explain what the code below does. More specifically, b has three axes - what does this mean? "
   ]
  },
  {
   "cell_type": "code",
   "execution_count": 11,
   "id": "f8f9b26f",
   "metadata": {},
   "outputs": [
    {
     "name": "stdout",
     "output_type": "stream",
     "text": [
      "[ 0  1  2  3  4  5  6  7  8  9 10 11 12 13 14 15 16 17 18 19 20 21 22 23\n",
      " 24 25 26 27 28 29]\n",
      "\n",
      "[[[ 0  1  2  3  4]\n",
      "  [ 5  6  7  8  9]\n",
      "  [10 11 12 13 14]]\n",
      "\n",
      " [[15 16 17 18 19]\n",
      "  [20 21 22 23 24]\n",
      "  [25 26 27 28 29]]]\n"
     ]
    }
   ],
   "source": [
    "a = np.arange(30)\n",
    "b = a.reshape((2, 3, -1))\n",
    "print(a)\n",
    "print()\n",
    "\n",
    "print(b)"
   ]
  },
  {
   "cell_type": "code",
   "execution_count": null,
   "id": "863a45df",
   "metadata": {},
   "outputs": [],
   "source": [
    "a = np.arange(30) #  Skapar en array a med 30 heltal, från 0 till 29.\n",
    "b = a.reshape((2, 3, -1)) \n",
    "#Arrayen b har nu tre axlar\n",
    "#Axel 0: Representerar de två \"blocken\" i arrayen.\n",
    "#Axel 1: Representerar de tre raderna i varje block.\n",
    "#Axel 2: Representerar de fem elementen (kolumnerna) i varje rad.\n",
    "print(a)\n",
    "print()\n",
    "\n",
    "print(b)"
   ]
  },
  {
   "cell_type": "markdown",
   "id": "421c9607-819a-401d-949a-97424436fe29",
   "metadata": {},
   "source": [
    "# For the exercises below, read the document *\"matematik_yh_antonio_vektorer_matriser_utdrag\"*\n",
    "# Solutions to the exercises and recorded videos can be found here: https://github.com/AntonioPrgomet/matematik_foer_yh\n",
    "\n",
    "# If you find the exercises below very hard, do not worry. Try your best, that will be enough. "
   ]
  },
  {
   "cell_type": "markdown",
   "id": "ab5933d5",
   "metadata": {},
   "source": [
    "### Broadcasting\n",
    "**Read the following link about broadcasting: https://numpy.org/doc/stable/user/basics.broadcasting.html#basics-broadcasting**"
   ]
  },
  {
   "cell_type": "markdown",
   "id": "039805ba",
   "metadata": {},
   "source": [
    "# Remark on Broadcasting when doing Linear Algebra calculations in Python. "
   ]
  },
  {
   "cell_type": "markdown",
   "id": "c4bcc147",
   "metadata": {},
   "source": [
    "### From the mathematical rules of matrix addition, the operation below (m1 + m2) does not make sense. The reason is that matrix addition requires two matrices of the same size. In Python however, it works due to broadcasting rules in NumPy. So you must be careful when doing Linear Algebra calculations in Python since they do not follow the \"mathematical rules\". This can however easily be handled by doing some simple programming, for example validating that two matrices have the same shape is easy if you for instance want to add two matrices. "
   ]
  },
  {
   "cell_type": "code",
   "execution_count": 12,
   "id": "1fd46778",
   "metadata": {},
   "outputs": [
    {
     "name": "stdout",
     "output_type": "stream",
     "text": [
      "[[2 3]\n",
      " [4 5]]\n"
     ]
    }
   ],
   "source": [
    "m1 = np.array([[1, 2], [3, 4]])\n",
    "m2 = np.array([1, 1])\n",
    "print(m1 + m2)"
   ]
  },
  {
   "cell_type": "markdown",
   "id": "23f594e8",
   "metadata": {},
   "source": [
    "Vad som händer: Matrisen m1 (2x2) adderas med vektorn m2 (1x2). Eftersom m2 har samma antal kolumner som m1, upprepas (broadcastas) m2 för varje rad i m1. \n",
    "Resultat: Varje element i m2 läggs till motsvarande kolumner i varje rad i m1."
   ]
  },
  {
   "cell_type": "markdown",
   "id": "047d6576",
   "metadata": {},
   "source": [
    "### The example below would also not be allowed if following the \"mathematical rules\" in Linear Algebra. But it works due to broadcasting in NumPy. "
   ]
  },
  {
   "cell_type": "markdown",
   "id": "90a5dd00",
   "metadata": {},
   "source": [
    " En skalär (1) adderas till alla element i vektorn v1. Broadcasting gör att 1 upprepas för varje element i vektorn.\n",
    "\n",
    "Resultat: Alla element i v1 ökas med 1."
   ]
  },
  {
   "cell_type": "code",
   "execution_count": 6,
   "id": "5e6ef2e4",
   "metadata": {},
   "outputs": [
    {
     "name": "stdout",
     "output_type": "stream",
     "text": [
      "[2 3 4]\n"
     ]
    }
   ],
   "source": [
    "v1 = np.array([1, 2, 3])\n",
    "print(v1 + 1)"
   ]
  },
  {
   "cell_type": "markdown",
   "id": "be6db461",
   "metadata": {},
   "source": [
    "Matrisen A (2x2) adderas med vektorn b (1x2). Broadcasting gör att vektorn b upprepas för varje rad i matrisen A.\n",
    "\n",
    "Resultat: Varje element i vektorn b läggs till motsvarande kolumner i varje rad i A.\n"
   ]
  },
  {
   "cell_type": "code",
   "execution_count": 14,
   "id": "e2cbae26",
   "metadata": {},
   "outputs": [
    {
     "name": "stdout",
     "output_type": "stream",
     "text": [
      "[[1 2]\n",
      " [3 4]]\n",
      "[2 2]\n"
     ]
    }
   ],
   "source": [
    "A = np.arange(1, 5).reshape(2,2)\n",
    "print(A)\n",
    "\n",
    "b = np.array([2, 2])\n",
    "print(b)"
   ]
  },
  {
   "cell_type": "markdown",
   "id": "722fd5cd",
   "metadata": {},
   "source": [
    "# Vector- and matrix algebra Exercises"
   ]
  },
  {
   "cell_type": "markdown",
   "id": "b63a3081-d976-4d9f-bfd0-a63917e79f7d",
   "metadata": {},
   "source": [
    "**Now you are going to create a function that can be reused every time you add or multiply matrices. The function is created so that we do the addition and multiplication according to the rules of vector- and matrix algebra.**\n",
    "\n",
    "**Create a function \"add_mult_matrices\" that takes two matrices as input arguments (validate that the input are of the type numpy.ndarray by using the isinstance function), a third argument that is either 'add' or 'multiply' that specifies if you want to add or multiply the matrices (validate that the third argument is either 'add' or 'multiply'). When doing matrix addition, validate that the matrices have the same size. When doing matrix multiplication, validate that the sizes conform (i.e. number of columns in the first matrix is equal to the number of rows in the second matrix).**"
   ]
  },
  {
   "cell_type": "code",
   "execution_count": 18,
   "id": "3506f977-ac0a-473f-85bc-eec9f35dc498",
   "metadata": {},
   "outputs": [],
   "source": [
    "def add_mult_matrices(mat1, mat2, operation):\n",
    "   \n",
    "    if not (isinstance(mat1, np.ndarray) and isinstance(mat2, np.ndarray)):\n",
    "        return \"Error: Both inputs must be of type numpy.ndarray.\"\n",
    "    \n",
    "    # Kontrollera att operationen är korrekt\n",
    "    if operation not in ['add', 'multiply']:\n",
    "        return \"Error: Operation must be 'add' or 'multiply'.\"\n",
    "    \n",
    "    # Utför addition\n",
    "    if operation == 'add':\n",
    "        if mat1.shape != mat2.shape:\n",
    "            return \"Error: Matrices must have the same dimensions for addition.\"\n",
    "        return mat1 + mat2\n",
    "    \n",
    "    # Utför multiplikation\n",
    "    elif operation == 'multiply':\n",
    "        if mat1.shape[1] != mat2.shape[0]:\n",
    "            return \"Error: Matrices are not conformable for multiplication.\"\n",
    "        return mat1 @ mat2  # Använder @-operatorn för matrisprodukt"
   ]
  },
  {
   "cell_type": "code",
   "execution_count": 19,
   "id": "34a4d245",
   "metadata": {},
   "outputs": [
    {
     "name": "stdout",
     "output_type": "stream",
     "text": [
      "Addition Result:\n",
      " Error: Matrices must have the same dimensions for addition.\n",
      "Multiplication Result:\n",
      " Error: Matrices are not conformable for multiplication.\n",
      "\n",
      "Invalid Operation Test:\n",
      " Error: Operation must be 'add' or 'multiply'.\n"
     ]
    }
   ],
   "source": [
    "# Testa addition\n",
    "add_result = add_mult_matrices(A, B, 'add')\n",
    "print(\"Addition Result:\\n\", add_result)\n",
    "\n",
    "# Testa multiplikation\n",
    "mult_result = add_mult_matrices(A, B, 'multiply')\n",
    "print(\"Multiplication Result:\\n\", mult_result)\n",
    "\n",
    "# Testa med felaktig operation\n",
    "error_result = add_mult_matrices(A, B, 'divide')\n",
    "print(\"\\nInvalid Operation Test:\\n\", error_result)"
   ]
  },
  {
   "cell_type": "markdown",
   "id": "8dad82d0-2359-4dff-8f5b-a57d3e34103c",
   "metadata": {},
   "source": [
    "### Solve all the exercises in chapter 10.1 in the book \"Matematik för yrkeshögskolan\" by using Python. "
   ]
  },
  {
   "cell_type": "code",
   "execution_count": 18,
   "id": "89df88af-3668-4d98-a0a4-e6d92eea0f89",
   "metadata": {},
   "outputs": [
    {
     "name": "stdout",
     "output_type": "stream",
     "text": [
      "(a) Dimensionen av vektorn x: (2,)\n",
      "(b) 5x: [20 15]\n",
      "(d) 5x + 3x: [32 24]\n",
      "(e) 8x: [32 24]\n",
      "(f) 4x - x: [12  9]\n",
      "x^T: [[4 3]]\n",
      "Dimensionen efter transponering: (1, 2)\n",
      "Normen av x är: 5.0\n",
      "uppgift 10.1.2 \n",
      "a) Vektorn v har fyra element, så dess dimension är 4. Det är en 4-dimensionell kolumnvektor.\n",
      "b) 2v = [ 6 14  0 22]\n",
      "c) 5v + 2v = [21 49  0 77]\n",
      "d) 4v - 2v = [ 6 14  0 22]\n",
      "v^T = [ 3  7  0 11]\n",
      "Ny dimension = (4,)\n",
      "f) ||v|| = 13.379088160259652\n",
      "a) ||v1|| = 7.14142842854285\n",
      "b) ||v1 - v2|| = 4.47213595499958\n"
     ]
    }
   ],
   "source": [
    "#(a) Vilken dimension har vektorn x?\n",
    "x = np.array([4, 3])\n",
    "\n",
    "#(b) Beräkna 5x.\n",
    "dimension_x = x.shape\n",
    "print(f\"(a) Dimensionen av vektorn x: {dimension_x}\")\n",
    "\n",
    "#(c) Beräkna 3x.\n",
    "result_b = 5 * x\n",
    "print(f\"(b) 5x: {result_b}\")\n",
    "\n",
    "#(d) Beräkna 5x + 3x.\n",
    "result_d = 5 * x + 3 * x\n",
    "print(f\"(d) 5x + 3x: {result_d}\")\n",
    "\n",
    "#(e) Beräkna 8x.\n",
    "result_e = 8 * x\n",
    "print(f\"(e) 8x: {result_e}\")\n",
    "\n",
    "#(f) Ber¨akna 4x − x.\n",
    "result_f = 4 * x - x\n",
    "print(f\"(f) 4x - x: {result_f}\")\n",
    "\n",
    "\n",
    "#(g) Beräkna x^T, vilken blir den nya dimensionen efter att transponeringen utförts?\n",
    "x_T = x.reshape(1, 2)  \n",
    "print(\"x^T:\", x_T)\n",
    "print(\"Dimensionen efter transponering:\", x_T.shape)\n",
    "\n",
    "#(h) Är x + x^T definierat?\n",
    "try:\n",
    "    result = x + x_T\n",
    "except ValueError as e:\n",
    "    print(\"Addition är inte definierad:\", e)\n",
    "#(i) Beräkna ∥x∥.\n",
    "norm_x = np.linalg.norm(x)\n",
    "print(\"Normen av x är:\", norm_x)\n",
    "\n",
    "print ('uppgift 10.1.2 ')\n",
    "print ('a) Vektorn v har fyra element, så dess dimension är 4. Det är en 4-dimensionell kolumnvektor.')\n",
    "\n",
    "v = np.array([3, 7, 0, 11])\n",
    "\n",
    "# (b) Beräkna 2v\n",
    "two_v = 2 * v\n",
    "print(\"b) 2v =\", two_v)\n",
    "\n",
    "# (c) Beräkna 5v + 2v\n",
    "five_v = 5 * v\n",
    "result_c = five_v + (2 * v)\n",
    "print(\"c) 5v + 2v =\", result_c)\n",
    "\n",
    "# (d) Beräkna 4v - 2v\n",
    "four_v = 4 * v\n",
    "result_d = four_v - (2 * v)\n",
    "print(\"d) 4v - 2v =\", result_d)\n",
    "\n",
    "# (e) Beräkna v^T (transponera vektorn)\n",
    "v_transposed = v.T\n",
    "print(\"v^T =\", v_transposed)\n",
    "print(\"Ny dimension =\", v_transposed.shape)\n",
    "\n",
    "# (f) Beräkna ||v|| (vektorns norm)\n",
    "norm_v = np.linalg.norm(v)\n",
    "print(\"f) ||v|| =\", norm_v)\n",
    "\n",
    "v1 = np.array([4, 3, 1, 5])\n",
    "v2 = np.array([2, 3, 1, 1])\n",
    "\n",
    "# (a) Beräkna ||v1||\n",
    "norm_v1 = np.linalg.norm(v1)\n",
    "print(\"a) ||v1|| =\", norm_v1)\n",
    "\n",
    "# (b) Beräkna ||v1 - v2||\n",
    "diff_v1_v2 = v1 - v2\n",
    "norm_diff_v1_v2 = np.linalg.norm(diff_v1_v2)\n",
    "print(\"b) ||v1 - v2|| =\", norm_diff_v1_v2)\n",
    "\n"
   ]
  },
  {
   "cell_type": "markdown",
   "id": "75c98984-1f88-4df1-b850-d2466de444a5",
   "metadata": {},
   "source": [
    "### Solve all the exercises, except 10.2.4, in chapter 10.2 in the book \"Matematik för yrkeshögskolan\" by using Python. "
   ]
  },
  {
   "cell_type": "code",
   "execution_count": 19,
   "id": "65371610-16e1-48b2-b7fb-65e49002608a",
   "metadata": {},
   "outputs": [
    {
     "name": "stdout",
     "output_type": "stream",
     "text": [
      "Lösningen x = [ 2.13691417  4.83412322 -1.89152185]\n",
      "Verifiering A * x = [ 8.51290153  3.64402317  7.70721432 10.33491311]\n",
      "Förväntad b = [ 7  4 11  9]\n"
     ]
    }
   ],
   "source": [
    "A = np.array([[3, 2, 4],\n",
    "              [2, 3, 8],\n",
    "              [4, 1, 3],\n",
    "              [7, 1, 5]])\n",
    "\n",
    "b = np.array([7, 4, 11, 9])\n",
    "\n",
    "# Lös ekvationssystemet\n",
    "x = np.linalg.lstsq(A, b, rcond=None)[0]\n",
    "\n",
    "# Verifiera genom att beräkna A * x och kontrollera att det är lika med b\n",
    "Ax = np.dot(A, x)\n",
    "\n",
    "# Skriv ut lösningen och verifiering\n",
    "print(\"Lösningen x =\", x)\n",
    "print(\"Verifiering A * x =\", Ax)\n",
    "print(\"Förväntad b =\", b)"
   ]
  },
  {
   "cell_type": "markdown",
   "id": "6a4a524f",
   "metadata": {},
   "source": [
    "### Copies and Views\n",
    "Read the following link: https://numpy.org/doc/stable/user/basics.copies.html"
   ]
  },
  {
   "cell_type": "markdown",
   "id": "6cbbeaf7",
   "metadata": {},
   "source": [
    "**Basic indexing creates a view, How can you check if v1 and v2 is a view or copy? If you change the last element in v2 to 123, will the last element in v1 be changed? Why?**"
   ]
  },
  {
   "cell_type": "code",
   "execution_count": 7,
   "id": "5b9ef4df",
   "metadata": {},
   "outputs": [
    {
     "name": "stdout",
     "output_type": "stream",
     "text": [
      "[0 1 2 3]\n",
      "[2 3]\n"
     ]
    }
   ],
   "source": [
    "v1 = np.arange(4)\n",
    "v2 = v1[-2:]\n",
    "print(v1)\n",
    "print(v2)"
   ]
  },
  {
   "cell_type": "code",
   "execution_count": 8,
   "id": "d2440489",
   "metadata": {},
   "outputs": [
    {
     "name": "stdout",
     "output_type": "stream",
     "text": [
      "None\n",
      "[0 1 2 3]\n"
     ]
    }
   ],
   "source": [
    "# The base attribute of a view returns the original array while it returns None for a copy.\n",
    "print(v1.base)\n",
    "print(v2.base)"
   ]
  },
  {
   "cell_type": "code",
   "execution_count": 9,
   "id": "c8752807",
   "metadata": {},
   "outputs": [
    {
     "name": "stdout",
     "output_type": "stream",
     "text": [
      "[  0   1   2 123]\n",
      "[  2 123]\n"
     ]
    }
   ],
   "source": [
    "# The last element in v1 will be changed aswell since v2 is a view, meaning they share the same data buffer.\n",
    "v2[-1] = 123\n",
    "print(v1)\n",
    "print(v2)"
   ]
  },
  {
   "cell_type": "code",
   "execution_count": null,
   "id": "3dd68221",
   "metadata": {},
   "outputs": [],
   "source": [
    "#För att kontrollera om v1 och v2 är en view eller en kopia kan vi använda .base:\n",
    "\n",
    "#Om .base är None är det en kopia (original). som V1\n",
    "#Om .base pekar på en annan array är det en view. som V2\n"
   ]
  }
 ],
 "metadata": {
  "kernelspec": {
   "display_name": ".venv",
   "language": "python",
   "name": "python3"
  },
  "language_info": {
   "codemirror_mode": {
    "name": "ipython",
    "version": 3
   },
   "file_extension": ".py",
   "mimetype": "text/x-python",
   "name": "python",
   "nbconvert_exporter": "python",
   "pygments_lexer": "ipython3",
   "version": "3.13.0"
  }
 },
 "nbformat": 4,
 "nbformat_minor": 5
}
